{
 "cells": [
  {
   "cell_type": "code",
   "execution_count": 4,
   "metadata": {},
   "outputs": [],
   "source": [
    "# neural network coursework\n",
    "\n",
    "from math import e, tanh, sqrt\n",
    "import random\n",
    "import pandas as pd\n",
    "import matplotlib.pyplot as plt\n",
    "import numpy as np\n",
    "from sklearn.model_selection import train_test_split\n",
    "import random\n",
    "from sklearn.preprocessing import MinMaxScaler, StandardScaler\n"
   ]
  },
  {
   "cell_type": "markdown",
   "metadata": {},
   "source": [
    "## Importing Data"
   ]
  },
  {
   "cell_type": "code",
   "execution_count": 7,
   "metadata": {},
   "outputs": [
    {
     "name": "stdout",
     "output_type": "stream",
     "text": [
      "        AREA  BFIHOST   FARL   FPEXT    LDP  PROPWET  RMED-1D  SAAR  \\\n",
      "0      31.40    0.514  0.998  0.0480  14.18     0.40     35.2   922   \n",
      "1     130.10    0.653  0.985  0.1461  30.25     0.28     27.5   596   \n",
      "2     344.36    0.461  0.909  0.0258  42.68     0.41     38.5  1170   \n",
      "3     710.96    0.458  0.995  0.1129  61.41     0.57     36.4  1153   \n",
      "4      67.25    0.360  0.961  0.1069  22.87     0.35     36.3   820   \n",
      "..       ...      ...    ...     ...    ...      ...      ...   ...   \n",
      "518     7.17    0.398  1.000  0.0059   4.60     0.50     37.1  1150   \n",
      "519   141.90    0.572  0.998  0.0451  35.42     0.36     37.9   887   \n",
      "520    63.71    0.485  0.997  0.0494  19.83     0.63     48.9  1489   \n",
      "521  1092.13    0.478  0.984  0.0610  90.61     0.59     49.8  1534   \n",
      "522   181.88    0.435  0.898  0.0537  46.15     0.66     52.3  1756   \n",
      "\n",
      "     Index flood  \n",
      "0         9.5810  \n",
      "1         3.8150  \n",
      "2        80.6710  \n",
      "3       200.8490  \n",
      "4        19.9025  \n",
      "..           ...  \n",
      "518       7.6270  \n",
      "519      36.1460  \n",
      "520      29.2100  \n",
      "521     312.8260  \n",
      "522     109.6710  \n",
      "\n",
      "[523 rows x 9 columns]\n"
     ]
    }
   ],
   "source": [
    "#note that the data has already been normalised\n",
    "def import_and_split(path='CWData.csv', ratio=0.2) -> list[pd.DataFrame, pd.DataFrame, pd.DataFrame, pd.DataFrame]:\n",
    "    df = pd.read_csv(path)\n",
    "    print(df)\n",
    "\n",
    "    X = df.loc[:, df.columns != 'Index flood']\n",
    "    y = df['Index flood']\n",
    "\n",
    "    X_train, X_test, y_train, y_test = train_test_split(X, y, test_size=ratio, random_state=42)\n",
    "\n",
    "    # Normalize X\n",
    "    x_scaler = StandardScaler()\n",
    "    X_train_scaled = x_scaler.fit_transform(X_train)\n",
    "    X_test_scaled = x_scaler.transform(X_test)\n",
    "\n",
    "    # Normalize y\n",
    "    y_scaler = StandardScaler()\n",
    "    y_train_scaled = y_scaler.fit_transform(y_train.values.reshape(-1, 1)).flatten()\n",
    "    y_test_scaled = y_scaler.transform(y_test.values.reshape(-1, 1)).flatten()\n",
    "\n",
    "    return X_train_scaled, X_test_scaled, y_train_scaled, y_test_scaled\n",
    "\n",
    "\n",
    "data=import_and_split()\n"
   ]
  },
  {
   "cell_type": "markdown",
   "metadata": {},
   "source": [
    "## Establishing the matrices"
   ]
  },
  {
   "cell_type": "code",
   "execution_count": 12,
   "metadata": {},
   "outputs": [
    {
     "data": {
      "image/png": "[encoded data removed]",
      "text/plain": [
       "<Figure size 1000x500 with 1 Axes>"
      ]
     },
     "metadata": {},
     "output_type": "display_data"
    }
   ],
   "source": [
    "def abs_error(y_target,y_pred)->float:\n",
    "    error_arr=y_target-y_pred\n",
    "\n",
    "    return error_arr\n",
    "\n",
    "#learning parameter\n",
    "lp = 0.1\n",
    "\n",
    "\n",
    "activation=\"tan\"\n",
    "\n",
    "epochs=1000\n",
    "\n",
    "momentum= 0\n",
    "\n",
    "hidden_biases = np.random.rand(1,8)\n",
    "hidden_biases_grad= np.zeros((8,8))\n",
    "output_bias = random.randint(1,100)\n",
    "\n",
    "\n",
    "# doing random \n",
    "hidden_weight= np.random.rand(8,8)\n",
    "hidden_weight_grad=np.zeros((8,8))\n",
    "output_weight = random.randint(1,100)\n",
    "\n",
    "\n",
    "\n",
    "\n",
    "def plot_error_over_epochs(errors):\n",
    "    epochs = np.arange(1, len(errors) + 1)\n",
    "    plt.figure(figsize=(10, 5))\n",
    "    plt.plot(epochs, errors, marker='o', linestyle='-', linewidth=2)\n",
    "    plt.title('Training Error over Epochs')\n",
    "    plt.xlabel('Epoch')\n",
    "    plt.ylabel('Error')\n",
    "    plt.grid(True)\n",
    "    plt.tight_layout()\n",
    "    plt.show()\n",
    "\n",
    "def inference(x_test,y_test, weights):\n",
    "    pass\n",
    "\n",
    "\n",
    "def proper_back_prop(X_train, y_train, hidden_weight,hidden_weight_grad ,epochs,lp=0.1):\n",
    "\n",
    "    def activation(sig):\n",
    "        #print(sig)\n",
    "        value = (1) / (1 + (e ** (sig*-1)))\n",
    "        #print(value)\n",
    "        return value\n",
    "\n",
    "    def diff(node):\n",
    "        value = (node) * (1 - (node))\n",
    "        return value\n",
    "    \n",
    "    error_array=[]\n",
    "    for epoch in range(epochs):\n",
    "\n",
    "        #input layer\n",
    "        sum = np.matmul(hidden_weight, X_train.T)\n",
    "        derivatve = activation(sum)\n",
    "        weight_sum= np.matmul(hidden_weight,derivatve)\n",
    "\n",
    "        output= activation(weight_sum)\n",
    "\n",
    "        error= y_train-output\n",
    "\n",
    "        #backward pass\n",
    "\n",
    "        output_diff = output\n",
    "\n",
    "        delta_output = error * output_diff\n",
    "\n",
    "        hidden_diff = diff(delta_output)\n",
    "\n",
    "        delta_hidden = np.matmul(hidden_weight,hidden_diff)\n",
    "        \n",
    "        hidden_weight_grad = np.dot(delta_hidden, X_train) / X_train.shape[0]  # shape: (8, input_dim)\n",
    "\n",
    "        hidden_weight += lp * hidden_weight_grad\n",
    "\n",
    "        # records the error\n",
    "        error_array.append((np.mean(error)))\n",
    "\n",
    "    \n",
    "    return error_array\n",
    "\n",
    "\n",
    "X_train, X_test, y_train, y_test = data\n",
    "errors= proper_back_prop(X_train, y_train, hidden_weight,hidden_weight_grad,epochs)\n",
    "\n",
    "plot_error_over_epochs(errors)"
   ]
  }
 ],
 "metadata": {
  "kernelspec": {
   "display_name": "Python 3",
   "language": "python",
   "name": "python3"
  },
  "language_info": {
   "codemirror_mode": {
    "name": "ipython",
    "version": 3
   },
   "file_extension": ".py",
   "mimetype": "text/x-python",
   "name": "python",
   "nbconvert_exporter": "python",
   "pygments_lexer": "ipython3",
   "version": "3.12.1"
  }
 },
 "nbformat": 4,
 "nbformat_minor": 2
}
